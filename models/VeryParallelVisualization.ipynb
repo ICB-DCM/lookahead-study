{
 "cells": [
  {
   "cell_type": "markdown",
   "metadata": {},
   "source": [
    "This notebook creates the graphics to visualize the difference between Static, Dynamic and Look-Ahead Scheduling"
   ]
  },
  {
   "cell_type": "code",
   "execution_count": 1,
   "metadata": {},
   "outputs": [],
   "source": [
    "import numpy as np\n",
    "import matplotlib\n",
    "import matplotlib.pyplot as plt\n",
    "import pandas as pd\n",
    "import matplotlib.colors as mcolor"
   ]
  },
  {
   "cell_type": "code",
   "execution_count": 2,
   "metadata": {},
   "outputs": [],
   "source": [
    "def Insert_row_(row_number, df, row_value): \n",
    "    # Slice the upper half of the dataframe \n",
    "    df1 = df[0:row_number] \n",
    "   \n",
    "    # Store the result of lower half of the dataframe \n",
    "    df2 = df[row_number:] \n",
    "   \n",
    "    # Inser the row in the upper half dataframe \n",
    "    df1.loc[row_number]=row_value \n",
    "   \n",
    "    # Concat the two dataframes \n",
    "    df_result = pd.concat([df1, df2]) \n",
    "   \n",
    "    # Reassign the index labels \n",
    "    df_result.index = [*range(df_result.shape[0])] \n",
    "   \n",
    "    # Return the updated dataframe \n",
    "    return df_result \n",
    "\n",
    "def assign_workers(testdata: pd.DataFrame,\n",
    "                   isPPP: bool,\n",
    "                   smooth_tips: bool,\n",
    "                   Nworkers: int,\n",
    "                   Ngenerations: int,\n",
    "                   Nacceptances: int):\n",
    "    \n",
    "    current_gen=0\n",
    "    workerclocks = np.zeros(Nworkers)\n",
    "    current_acceptances = 0\n",
    "    \n",
    "    i=0\n",
    "    \n",
    "    indexworkercol=testdata_source.columns.get_loc('Worker #')\n",
    "    indexstatuscol=testdata_source.columns.get_loc('Status')\n",
    "\n",
    "    while i < len(testdata):\n",
    "        \n",
    "        #check if new generation started\n",
    "        if testdata['Generation'].iloc[i] != current_gen:\n",
    "            current_gen=testdata['Generation'].iloc[i]\n",
    "            current_acceptances=0\n",
    "            \n",
    "            #insert wait times between generations\n",
    "            if not isPPP and current_gen != Ngenerations+1 and current_gen != 1:\n",
    "                new_gen_starttime = workerclocks.max()\n",
    "                for k in range(Nworkers):\n",
    "                    if k !=workerclocks.argmax():\n",
    "                        row_value = [i, current_gen, \"None\", k + 1, new_gen_starttime-workerclocks[k]]\n",
    "                        testdata=Insert_row_(i, testdata, row_value)\n",
    "                        workerclocks[k]=new_gen_starttime\n",
    "                        i += 1\n",
    "        #assign worker            \n",
    "        freeworker = workerclocks.argmin() + 1\n",
    "        testdata.iloc[i, indexworkercol] = freeworker\n",
    "        workerclocks[freeworker - 1] += testdata['Duration (ms)'].iloc[i]\n",
    "        \n",
    "        #check acceptance\n",
    "        \n",
    "        if testdata['Status'].iloc[i] == \"Accepted\":\n",
    "            if current_acceptances < Nacceptances:\n",
    "                current_acceptances += 1\n",
    "            else:\n",
    "                testdata.iloc[i,indexstatuscol]=\"Discarded\"\n",
    "        i += 1\n",
    "    \n",
    "    endtime=workerclocks.max()\n",
    "    if smooth_tips:\n",
    "        for k in range(Nworkers):\n",
    "            last_process=testdata.loc[testdata['Worker #']==k+1].tail(1).index\n",
    "            testdata.loc[last_process, \"Duration (ms)\"] = \\\n",
    "                testdata.iloc[last_process][\"Duration (ms)\"] + endtime-workerclocks[k]\n",
    "    \n",
    "    return testdata"
   ]
  },
  {
   "cell_type": "code",
   "execution_count": 3,
   "metadata": {},
   "outputs": [],
   "source": [
    "def find_walltimes(testdata: pd.DataFrame, \n",
    "                   Nworkers: int, \n",
    "                   Ngenerations: int):\n",
    "    \n",
    "    walltimes = np.zeros((Ngenerations+1,Nworkers))\n",
    "    processes = np.zeros(Nworkers)\n",
    "    \n",
    "    for i in range(0, Nworkers):\n",
    "        for j in range(1, Ngenerations+1):\n",
    "            testdata_worker = testdata.loc[testdata['Worker #']==i+1]\n",
    "            testdata_worker_gen = testdata_worker.loc[testdata_worker['Generation']==j]\n",
    "            testdata_worker_gen = testdata_worker_gen.assign(\n",
    "                Walltime=lambda testdata_worker: testdata_worker_gen['Duration (ms)'].cumsum())\n",
    "            walltimes[j,i] = walltimes[j-1,i]+testdata_worker_gen.tail(1)['Walltime']\n",
    "            processes[i] = len(testdata_worker)\n",
    "    return walltimes, processes\n",
    "\n",
    "\n",
    "def create_arrays(testdata: pd.DataFrame, \n",
    "                  Nworkers: int, Ngenerations: int, \n",
    "                  Nmax_proc: int):\n",
    "    \n",
    "    runtimes_wp = np.zeros((int(Nmax_proc), Nworkers))\n",
    "    generations_wp = np.zeros((int(Nmax_proc), Nworkers))\n",
    "    acceptance_wp = [[None for x in range(Nworkers)] for y in range(int(Nmax_proc))]\n",
    "\n",
    "    for i in range(0,Nworkers):\n",
    "        testdata_worker = testdata.loc[testdata['Worker #']==i+1]\n",
    "        runtimes = testdata_worker['Duration (ms)'].values\n",
    "        generations = testdata_worker['Generation'].values\n",
    "        acceptance = testdata_worker['Status'].array\n",
    "        for j in range(len(runtimes)):\n",
    "            runtimes_wp[j,i]=runtimes[j]\n",
    "            generations_wp[j,i]=generations[j]\n",
    "            acceptance_wp[j][i] = acceptance[j]\n",
    "    return runtimes_wp, generations_wp, acceptance_wp\n",
    "\n",
    "\n",
    "def create_colortable(color: dict, \n",
    "                     generations_wp: np.array,\n",
    "                     acceptance_wp: np.array,\n",
    "                     Nworkers: int, \n",
    "                     Nmax_proc: int):\n",
    "    \n",
    "    colortable = [[None for x in range(Nworkers)] for y in range(int(Nmax_proc))]\n",
    "\n",
    "    for i in range(Nworkers):\n",
    "        for j in range(int(Nmax_proc)):\n",
    "            colortable[j][i]=color[str(int(generations_wp[j,i]))+str(acceptance_wp[j][i])]\n",
    "    return colortable"
   ]
  },
  {
   "cell_type": "code",
   "execution_count": 4,
   "metadata": {},
   "outputs": [],
   "source": [
    "def draw_picture(path: str,\n",
    "                 colordict: dict, \n",
    "                 colortable: list, \n",
    "                 runtimes_wp: np.array,\n",
    "                 walltimes: np.array,\n",
    "                 Nworkers: int, \n",
    "                 Ngenerations: int, \n",
    "                 Nmax_proc: int, \n",
    "                 isPPP: bool,\n",
    "                 y_max: int=0,\n",
    "                 legend: bool=False):\n",
    "\n",
    "    index = np.arange(Nworkers)+1\n",
    "    bar_width = 0.7\n",
    "    y_offset = np.zeros(Nworkers)\n",
    "    \n",
    "    if y_max == 0:\n",
    "        y_max=walltimes.max()\n",
    "        print(y_max)\n",
    "    \n",
    "    for row in range(int(Nmax_proc)):\n",
    "        plt.bar(index, runtimes_wp[row]-10, bar_width, bottom=y_offset, color = colortable[row])\n",
    "        y_offset = y_offset + runtimes_wp[row]\n",
    "\n",
    "    for gen in range(1,Ngenerations):\n",
    "        if isPPP:\n",
    "            start_time = walltimes[gen,:].min()\n",
    "            plt.axhline(start_time, linestyle='dashed', color ='black')\n",
    "        end_time = walltimes[gen,:].max()\n",
    "        plt.axhline(end_time, color = 'black')\n",
    "    \n",
    "    if Ngenerations==1:\n",
    "        final_time=walltimes[1,:].max()\n",
    "        plt.axhline(final_time, color = 'black')\n",
    "    plt.xticks(index)\n",
    "    plt.xlabel(\"worker\")\n",
    "    plt.ylabel(\"time\")\n",
    "    plt.ylim(0,y_max)\n",
    "    \n",
    "    \n",
    "    if legend:\n",
    "        plt.bar([1],[1],0, color = colordict[\"1Accepted\"], label=\"Accepted\")\n",
    "        plt.bar([1],[1],0, color = colordict[\"1Rejected\"], label=\"Discarded\")\n",
    "        plt.plot([1],[1], color='black', label=\"End of generation\")\n",
    "        plt.legend()\n",
    "        \n",
    "    plt.savefig(path)\n",
    "    \n",
    "    plt.show()"
   ]
  },
  {
   "cell_type": "code",
   "execution_count": 5,
   "metadata": {},
   "outputs": [],
   "source": [
    "def generate_picture(testdata_source: pd.DataFrame, \n",
    "                     colordict: dict, \n",
    "                     path: str, \n",
    "                     isPPP: bool,\n",
    "                     draw_source: bool,\n",
    "                     Nacceptances: int, \n",
    "                     Nworkers: int,\n",
    "                     smooth_tips: bool=False,\n",
    "                     y_max: int=0,\n",
    "                     legend: bool=False):\n",
    "    \n",
    "    Ngenerations = int(testdata_source['Generation'].max())    \n",
    "    \n",
    "    if draw_source:\n",
    "        testdata=testdata_source\n",
    "    else:\n",
    "        testdata = assign_workers(testdata_source, isPPP, smooth_tips, Nworkers, Ngenerations, Nacceptances)\n",
    "    \n",
    "    if Nworkers==0:\n",
    "        Nworkers = int(testdata['Worker #'].max())\n",
    "        \n",
    "    walltimes, processes = find_walltimes(testdata, Nworkers, Ngenerations)\n",
    "    \n",
    "    \n",
    "    Nmax_proc = int(processes.max())\n",
    "    \n",
    "    runtimes_wp, generations_wp, acceptance_wp = create_arrays(testdata, Nworkers, Ngenerations, Nmax_proc)\n",
    "    \n",
    "    colortable = create_colortable(colordict, generations_wp, acceptance_wp, Nworkers, Nmax_proc)\n",
    "    \n",
    "    draw_picture(path, colordict, colortable, runtimes_wp, walltimes, Nworkers, Ngenerations, Nmax_proc,\n",
    "                 isPPP, y_max, legend)"
   ]
  },
  {
   "cell_type": "code",
   "execution_count": 6,
   "metadata": {},
   "outputs": [],
   "source": [
    "testdata_source = pd.read_csv(\n",
    "    r'C:\\Users\\Felipe\\Documents\\Uni\\Master\\Thesis\\Scheduling\\TestDataConstructed.csv',\n",
    "    delimiter = \";\")\n",
    "Nacceptances=20\n",
    "Nworkers=8\n",
    "colordict={'0None': 'white',\n",
    "     '1None': 'white',\n",
    "     '2None': 'white',\n",
    "     '3None': 'white',\n",
    "     '1Accepted': 'limegreen',\n",
    "     '1Rejected': 'red',\n",
    "     '1Discarded': 'palegreen',\n",
    "     '2Accepted': 'dodgerblue',\n",
    "     '2Rejected': 'red',\n",
    "     '2Discarded': 'lightskyblue',\n",
    "     '3Accepted': 'yellow',\n",
    "     '3Rejected': 'red',\n",
    "     '3Discarded': 'lemonchiffon'}\n",
    "\n",
    "font = {'family' : 'normal',\n",
    "        'weight' : 'normal',\n",
    "        'size'   : 20}\n",
    "\n",
    "matplotlib.rc('font', **font)"
   ]
  },
  {
   "cell_type": "code",
   "execution_count": 7,
   "metadata": {
    "scrolled": false
   },
   "outputs": [
    {
     "name": "stderr",
     "output_type": "stream",
     "text": [
      "C:\\Users\\Felipe\\anaconda3\\lib\\site-packages\\pandas\\core\\indexing.py:671: SettingWithCopyWarning: \n",
      "A value is trying to be set on a copy of a slice from a DataFrame\n",
      "\n",
      "See the caveats in the documentation: https://pandas.pydata.org/pandas-docs/stable/user_guide/indexing.html#returning-a-view-versus-a-copy\n",
      "  self._setitem_with_indexer(indexer, value)\n",
      "findfont: Font family ['normal'] not found. Falling back to DejaVu Sans.\n"
     ]
    },
    {
     "name": "stdout",
     "output_type": "stream",
     "text": [
      "1620.0\n"
     ]
    },
    {
     "data": {
      "image/png": "[encoded data removed]",
      "text/plain": [
       "<Figure size 432x288 with 1 Axes>"
      ]
     },
     "metadata": {
      "needs_background": "light"
     },
     "output_type": "display_data"
    }
   ],
   "source": [
    "savefig_path = r\"C:\\Users\\Felipe\\Documents\\Uni\\Master\\Thesis\\Scheduling\\DynamicScheduling.pdf\"\n",
    "isPPP=False\n",
    "draw_source=False\n",
    "smooth_tips=False\n",
    "\n",
    "generate_picture(testdata_source, colordict, savefig_path, isPPP, draw_source,\n",
    "                    Nacceptances, Nworkers, smooth_tips)"
   ]
  },
  {
   "cell_type": "code",
   "execution_count": 8,
   "metadata": {},
   "outputs": [
    {
     "data": {
      "image/png": "[encoded data removed]",
      "text/plain": [
       "<Figure size 432x288 with 1 Axes>"
      ]
     },
     "metadata": {
      "needs_background": "light"
     },
     "output_type": "display_data"
    }
   ],
   "source": [
    "savefig_path = r\"C:\\Users\\Felipe\\Documents\\Uni\\Master\\Thesis\\Scheduling\\DynamicSchedulingPPP.pdf\"\n",
    "isPPP = True\n",
    "y_max = 1620\n",
    "generate_picture(testdata_source, colordict, savefig_path, isPPP, draw_source,\n",
    "                    Nacceptances, Nworkers, smooth_tips, y_max=y_max)"
   ]
  },
  {
   "cell_type": "code",
   "execution_count": 9,
   "metadata": {},
   "outputs": [],
   "source": [
    "testdata_1gen=testdata_source.loc[testdata_source['Generation']==1].loc[testdata_source['Status']!=\"Discarded\"]\n",
    "\n",
    "i=testdata_1gen[\"Process Number\"].max()\n",
    "testdata_1gen = testdata_1gen.loc[0:24]\n",
    "#row_value = [29, 1, \"Accepted\", 1, 150]\n",
    "#testdata_1gen.append(row_value)\n",
    "#testdata1gen=Insert_row_(26,testdata_1gen, row_value)\n",
    "j=testdata_source.columns.get_loc('Worker #')\n",
    "for i in range(len(testdata_1gen)):\n",
    "    testdata_1gen.iloc[i,j]=np.random.randint(1,9)\n"
   ]
  },
  {
   "cell_type": "code",
   "execution_count": 10,
   "metadata": {},
   "outputs": [],
   "source": [
    "def assign_static(testdata: pd.DataFrame,\n",
    "                   isPPP: bool,\n",
    "                   smooth_tips: bool,\n",
    "                   Nworkers: int,\n",
    "                   Ngenerations: int,\n",
    "                   Nacceptances: int):\n",
    "    \n",
    "    current_gen=0\n",
    "    workerclocks = np.zeros(Nworkers)\n",
    "    current_acceptances = 0\n",
    "    \n",
    "    i=0\n",
    "    \n",
    "    indexworkercol=testdata_source.columns.get_loc('Worker #')\n",
    "    indexstatuscol=testdata_source.columns.get_loc('Status')\n",
    "\n",
    "    while i < len(testdata):\n",
    "\n",
    "        freeworker = workerclocks.argmin() + 1\n",
    "        testdata.iloc[i, indexworkercol] = freeworker\n",
    "        \n",
    "        #check acceptance\n",
    "        \n",
    "        if testdata.iloc[i, indexstatuscol]== \"Accepted\":\n",
    "            \n",
    "            workerclocks[freeworker - 1] += 1\n",
    "            \n",
    "            if current_acceptances < Nacceptances:\n",
    "                current_acceptances += 1\n",
    "            else:\n",
    "                testdata.iloc[i,indexstatuscol]=\"Discarded\"\n",
    "        \n",
    "        i += 1\n",
    "    \n",
    "    return testdata\n",
    "\n",
    "def generate_static(testdata_source: pd.DataFrame, \n",
    "                     colordict: dict, \n",
    "                     path: str, \n",
    "                     isPPP: bool, \n",
    "                     draw_source: bool,\n",
    "                     Nacceptances: int, \n",
    "                     Nworkers: int,\n",
    "                     smooth_tips: bool,\n",
    "                     y_max: int=0):\n",
    "    \n",
    "    Ngenerations = int(testdata_source['Generation'].max())    \n",
    "    \n",
    "    if draw_source:\n",
    "        testdata=testdata_source\n",
    "    else:\n",
    "        testdata = assign_static(testdata_source, isPPP, smooth_tips, Nworkers, Ngenerations, Nacceptances)\n",
    "    \n",
    "    if Nworkers==0:\n",
    "        Nworkers = int(testdata['Worker #'].max())\n",
    "        \n",
    "    walltimes, processes = find_walltimes(testdata, Nworkers, Ngenerations)\n",
    "    \n",
    "    Nmax_proc = int(processes.max())\n",
    "    \n",
    "    runtimes_wp, generations_wp, acceptance_wp = create_arrays(testdata, Nworkers, Ngenerations, Nmax_proc)\n",
    "    \n",
    "    colortable = create_colortable(colordict, generations_wp, acceptance_wp, Nworkers, Nmax_proc)\n",
    "    \n",
    "    draw_picture(path, colordict, colortable, runtimes_wp,\n",
    "                 walltimes, Nworkers, Ngenerations, Nmax_proc, isPPP, y_max=y_max)"
   ]
  },
  {
   "cell_type": "code",
   "execution_count": 11,
   "metadata": {},
   "outputs": [
    {
     "data": {
      "image/png": "[encoded data removed]",
      "text/plain": [
       "<Figure size 432x288 with 1 Axes>"
      ]
     },
     "metadata": {
      "needs_background": "light"
     },
     "output_type": "display_data"
    }
   ],
   "source": [
    "savefig_path = r\"C:\\Users\\Felipe\\Documents\\Uni\\Master\\Thesis\\Scheduling\\StaticScheduling.pdf\"\n",
    "ymax=1620\n",
    "generate_static(testdata_1gen, colordict, savefig_path, isPPP, draw_source,\n",
    "                    Nacceptances, Nworkers, smooth_tips, y_max=ymax)"
   ]
  },
  {
   "cell_type": "code",
   "execution_count": 12,
   "metadata": {},
   "outputs": [
    {
     "data": {
      "image/png": "[encoded data removed]",
      "text/plain": [
       "<Figure size 432x288 with 1 Axes>"
      ]
     },
     "metadata": {
      "needs_background": "light"
     },
     "output_type": "display_data"
    }
   ],
   "source": [
    "draw_source = False\n",
    "smooth_tips = False \n",
    "savefig_path = r\"C:\\Users\\Felipe\\Documents\\Uni\\Master\\Thesis\\Scheduling\\DynamicScheduling1Gen.pdf\"\n",
    "\n",
    "generate_picture(testdata_1gen, colordict, savefig_path, isPPP, draw_source,\n",
    "                    Nacceptances, Nworkers, smooth_tips, y_max=ymax, legend=True)"
   ]
  }
 ],
 "metadata": {
  "kernelspec": {
   "display_name": "Python 3",
   "language": "python",
   "name": "python3"
  },
  "language_info": {
   "codemirror_mode": {
    "name": "ipython",
    "version": 3
   },
   "file_extension": ".py",
   "mimetype": "text/x-python",
   "name": "python",
   "nbconvert_exporter": "python",
   "pygments_lexer": "ipython3",
   "version": "3.8.2"
  }
 },
 "nbformat": 4,
 "nbformat_minor": 4
}
