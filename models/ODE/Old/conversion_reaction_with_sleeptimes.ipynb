{
 "cells": [
  {
   "cell_type": "markdown",
   "metadata": {},
   "source": [
    "Ordinary Differential Equations: Conversion Reaction\n",
    "============================"
   ]
  },
  {
   "cell_type": "raw",
   "metadata": {
    "raw_mimetype": "text/restructuredtext"
   },
   "source": [
    "\n",
    "This example was kindly contributed by Lukas Sandmeir and Elba Raimundez. It can be downloaded here:\n",
    ":download:`Ordinary Differential Equations <conversion_reaction.ipynb>`."
   ]
  },
  {
   "cell_type": "markdown",
   "metadata": {
    "raw_mimetype": "text/restructuredtext"
   },
   "source": [
    "This example provides a model for the interconversion of two species \n",
    "($X_1$ and $X_2$) following first-order mass action kinetics with the \n",
    "parameters $\\Theta_1$ and $\\Theta_2$ respectively:\n",
    "\n",
    "\n",
    "$$\n",
    "    X_1 \\rightarrow X_2, \\quad\\text{rate} = \\Theta_1 \\cdot [X_1]\n",
    "$$\n",
    "\n",
    "$$\n",
    "    X_2 \\rightarrow X_1, \\quad\\text{rate} = \\Theta_2 \\cdot [X_2]\n",
    "$$\n",
    "\n",
    "Measurement of $[X_2]$ is provided as $Y = [X_2]$.\n",
    "\n",
    "We will show how to estimate $\\Theta_1$ and $\\Theta_2$ using pyABC."
   ]
  },
  {
   "cell_type": "code",
   "execution_count": 1,
   "metadata": {},
   "outputs": [],
   "source": [
    "%matplotlib inline\n",
    "\n",
    "from pyabc import (ABCSMC,\n",
    "                   RV, Distribution,\n",
    "                   ListEpsilon,\n",
    "                   MedianEpsilon,\n",
    "                   LocalTransition, sampler)\n",
    "from pyabc.visualization import plot_kde_2d, plot_data_callback\n",
    "import matplotlib.pyplot as plt\n",
    "import os\n",
    "import tempfile\n",
    "import numpy as np\n",
    "import scipy as sp\n",
    "import time\n",
    "\n",
    "db_path = (\"sqlite:///\" +\n",
    "           os.path.join(\"/home/felipe/testresults\", \"test.db\"))"
   ]
  },
  {
   "cell_type": "markdown",
   "metadata": {
    "raw_mimetype": "text/restructuredtext"
   },
   "source": [
    "Data\n",
    "----\n",
    "\n",
    "We use an artificial data set which consists of a vector of time points $t$\n",
    "and a measurement vector $Y$. This data was created using the parameter \n",
    "values which are assigned to $\\Theta_{\\text{true}}$ and by adding normaly distributed \n",
    "measurement noise with variance $\\sigma^2 = 0.015^2$. \n",
    "\n",
    "ODE model\n",
    "---------\n",
    "\n",
    "$$\n",
    "    \\begin{align*}\n",
    "    \\frac{dX_1}{dt} &= -\\Theta_1 \\cdot X_1 + \\Theta_2 \\cdot X_2\\\\\n",
    "    \\frac{dX_2}{dt} &= \\Theta_1 \\cdot X_1 - \\Theta_2 \\cdot X_2\n",
    "    \\end{align*}\n",
    "$$"
   ]
  },
  {
   "cell_type": "markdown",
   "metadata": {},
   "source": [
    "Define the true parameters"
   ]
  },
  {
   "cell_type": "code",
   "execution_count": 2,
   "metadata": {},
   "outputs": [],
   "source": [
    "theta1_true, theta2_true = np.exp([-2.5, -2])\n",
    "\n",
    "eps_list=[10, 5, 3, 2, 1, 0.75, 0.5, 0.33, 0.25]\n",
    "#eps = ListEpsilon(eps_list)\n",
    "eps=MedianEpsilon(500, median_multiplier=0.8)\n",
    "pop_size = 5000\n",
    "expected_sleeptime_ms=1\n",
    "min_eps=0.21\n",
    "iters_true = 1\n",
    "iters_false = 0\n",
    "iters_multicore = 0\n",
    "noise_factor = 0.03\n"
   ]
  },
  {
   "cell_type": "markdown",
   "metadata": {},
   "source": [
    "and the measurement data"
   ]
  },
  {
   "cell_type": "code",
   "execution_count": 3,
   "metadata": {},
   "outputs": [],
   "source": [
    "measurement_data = np.array([0.0244, 0.0842, 0.1208,\n",
    "                             0.1724, 0.2315, 0.2634,\n",
    "                             0.2831, 0.3084, 0.3079,\n",
    "                             0.3097, 0.3324])"
   ]
  },
  {
   "cell_type": "markdown",
   "metadata": {},
   "source": [
    "as well as the time points at whith to evaluate"
   ]
  },
  {
   "cell_type": "code",
   "execution_count": 4,
   "metadata": {},
   "outputs": [],
   "source": [
    "measurement_times = np.arange(len(measurement_data))"
   ]
  },
  {
   "cell_type": "markdown",
   "metadata": {},
   "source": [
    "and the initial conditions for $X_1$ and $X_2$"
   ]
  },
  {
   "cell_type": "code",
   "execution_count": 5,
   "metadata": {},
   "outputs": [],
   "source": [
    "init = np.array([1, 0])"
   ]
  },
  {
   "cell_type": "markdown",
   "metadata": {},
   "source": [
    "Define the ODE model"
   ]
  },
  {
   "cell_type": "code",
   "execution_count": 6,
   "metadata": {},
   "outputs": [],
   "source": [
    "def f(y, t0, theta1, theta2):\n",
    "    x1, x2 = y\n",
    "    dx1 = - theta1 * x1 + theta2 * x2\n",
    "    dx2 =   theta1 * x1 - theta2 * x2\n",
    "    return dx1, dx2\n",
    "\n",
    "\n",
    "def model(pars):\n",
    "    sol = sp.integrate.odeint(\n",
    "             f, init, measurement_times,\n",
    "             args=(pars[\"theta1\"],pars[\"theta2\"]))\n",
    "    x = np.random.random()\n",
    "    if x >= 0.95:\n",
    "        pause_ms = 1\n",
    "    else:\n",
    "        pause_ms = 0.1\n",
    "    #pause_ms = np.random.lognormal(0,1)*(expected_sleeptime_ms/1000)\n",
    "    time.sleep(pause_ms)\n",
    "    return {\"X_2\": sol[:,1]}"
   ]
  },
  {
   "cell_type": "markdown",
   "metadata": {},
   "source": [
    "Integration of the ODE model for the true parameter values"
   ]
  },
  {
   "cell_type": "code",
   "execution_count": 7,
   "metadata": {},
   "outputs": [],
   "source": [
    "true_trajectory = model({\"theta1\": theta1_true,\n",
    "                         \"theta2\": theta2_true})[\"X_2\"]"
   ]
  },
  {
   "cell_type": "markdown",
   "metadata": {},
   "source": [
    "Let's visualize the results"
   ]
  },
  {
   "cell_type": "code",
   "execution_count": 8,
   "metadata": {},
   "outputs": [
    {
     "data": {
      "image/png": "[encoded data removed]",
      "text/plain": [
       "<Figure size 432x288 with 1 Axes>"
      ]
     },
     "metadata": {
      "needs_background": "light"
     },
     "output_type": "display_data"
    }
   ],
   "source": [
    "plt.plot(true_trajectory, color=\"C0\", label='Simulation')\n",
    "plt.scatter(measurement_times, measurement_data,\n",
    "            color=\"C1\", label='Data')\n",
    "plt.xlabel('Time $t$')\n",
    "plt.ylabel('Measurement $Y$')\n",
    "plt.title('Conversion reaction: True parameters fit')\n",
    "plt.legend()\n",
    "plt.show()"
   ]
  },
  {
   "cell_type": "code",
   "execution_count": 9,
   "metadata": {},
   "outputs": [],
   "source": [
    "def distance(simulation, data):\n",
    "    return np.absolute(data[\"X_2\"] - simulation[\"X_2\"]).sum()"
   ]
  },
  {
   "cell_type": "markdown",
   "metadata": {},
   "source": [
    "Define the prior for $\\Theta_1$ and $\\Theta_2$"
   ]
  },
  {
   "cell_type": "code",
   "execution_count": 10,
   "metadata": {},
   "outputs": [
    {
     "data": {
      "text/plain": [
       "['theta1', 'theta2']"
      ]
     },
     "execution_count": 10,
     "metadata": {},
     "output_type": "execute_result"
    }
   ],
   "source": [
    "parameter_prior = Distribution(theta1=RV(\"uniform\", 0, 1),\n",
    "                               theta2=RV(\"uniform\", 0, 1))\n",
    "parameter_prior.get_parameter_names()"
   ]
  },
  {
   "cell_type": "code",
   "execution_count": 11,
   "metadata": {},
   "outputs": [
    {
     "name": "stderr",
     "output_type": "stream",
     "text": [
      "INFO:History:Start <ABCSMC(id=289, start_time=2020-11-06 19:26:21.776441, end_time=None)>\n",
      "INFO:ABC:t: 0, eps: 500.\n"
     ]
    },
    {
     "name": "stdout",
     "output_type": "stream",
     "text": [
      "Time passed until sampling starts for generation 0 :  0.011189937591552734\n",
      "Start Duration:  0.008615970611572266\n",
      "Preliminary accepted: 0\n",
      "Acceptance Duration:  94.27784395217896\n",
      "Maybe Next Gen Duration:  2.274873733520508\n",
      "Wait time:  0.000766754150390625\n",
      "Preliminary discarded:  0\n",
      "Collection Duration:  0.005204916000366211\n",
      "Rest Duration:  0.06309342384338379\n",
      "Duration of sampling for generation 0 :  96.6337206363678\n"
     ]
    },
    {
     "name": "stderr",
     "output_type": "stream",
     "text": [
      "INFO:ABC:Acceptance rate: 5000 / 5007 = 9.9860e-01, ESS=5.0000e+03.\n"
     ]
    },
    {
     "name": "stdout",
     "output_type": "stream",
     "text": [
      "History Duration:  4.806865453720093\n"
     ]
    },
    {
     "name": "stderr",
     "output_type": "stream",
     "text": [
      "INFO:ABC:t: 1, eps: 1.8469051655855666.\n"
     ]
    },
    {
     "name": "stdout",
     "output_type": "stream",
     "text": [
      "PrepNext Duration:  2.1100974082946777\n",
      "Time passed until sampling starts for generation 1 :  6.946820974349976\n",
      "Start Duration:  0.005093574523925781\n",
      "Preliminary accepted: 143\n",
      "Acceptance Duration:  238.2878839969635\n",
      "Maybe Next Gen Duration:  2.150461435317993\n",
      "Wait time:  0.0005819797515869141\n",
      "Preliminary discarded:  0\n",
      "Collection Duration:  0.0012943744659423828\n",
      "Rest Duration:  0.04688525199890137\n",
      "Duration of sampling for generation 1 :  240.49558782577515\n"
     ]
    },
    {
     "name": "stderr",
     "output_type": "stream",
     "text": [
      "INFO:ABC:Acceptance rate: 5000 / 12946 = 3.8622e-01, ESS=4.8455e+03.\n"
     ]
    },
    {
     "name": "stdout",
     "output_type": "stream",
     "text": [
      "History Duration:  4.766933441162109\n"
     ]
    },
    {
     "name": "stderr",
     "output_type": "stream",
     "text": [
      "INFO:ABC:t: 2, eps: 0.7880832947879196.\n"
     ]
    },
    {
     "name": "stdout",
     "output_type": "stream",
     "text": [
      "PrepNext Duration:  1.9569036960601807\n",
      "Time passed until sampling starts for generation 2 :  6.7654869556427\n",
      "Start Duration:  0.0057141780853271484\n",
      "Preliminary accepted: 121\n",
      "Acceptance Duration:  262.4050464630127\n",
      "Maybe Next Gen Duration:  2.0625245571136475\n",
      "Wait time:  0.0002722740173339844\n",
      "Preliminary discarded:  0\n",
      "Collection Duration:  0.0024237632751464844\n",
      "Rest Duration:  0.0354771614074707\n",
      "Duration of sampling for generation 2 :  264.5154597759247\n"
     ]
    },
    {
     "name": "stderr",
     "output_type": "stream",
     "text": [
      "INFO:ABC:Acceptance rate: 5000 / 14321 = 3.4914e-01, ESS=4.8332e+03.\n"
     ]
    },
    {
     "name": "stdout",
     "output_type": "stream",
     "text": [
      "History Duration:  4.498715877532959\n"
     ]
    },
    {
     "name": "stderr",
     "output_type": "stream",
     "text": [
      "INFO:ABC:t: 3, eps: 0.47520487141386775.\n"
     ]
    },
    {
     "name": "stdout",
     "output_type": "stream",
     "text": [
      "PrepNext Duration:  2.0872764587402344\n",
      "Time passed until sampling starts for generation 3 :  6.629216194152832\n",
      "Start Duration:  0.005082368850708008\n",
      "Preliminary accepted: 56\n",
      "Acceptance Duration:  602.2216529846191\n",
      "Maybe Next Gen Duration:  2.165229558944702\n",
      "Wait time:  0.0006959438323974609\n",
      "Preliminary discarded:  0\n",
      "Collection Duration:  0.0016295909881591797\n",
      "Rest Duration:  0.03845095634460449\n",
      "Duration of sampling for generation 3 :  604.4363634586334\n"
     ]
    },
    {
     "name": "stderr",
     "output_type": "stream",
     "text": [
      "INFO:ABC:Acceptance rate: 5000 / 32613 = 1.5331e-01, ESS=4.6761e+03.\n"
     ]
    },
    {
     "name": "stdout",
     "output_type": "stream",
     "text": [
      "History Duration:  4.576826333999634\n"
     ]
    },
    {
     "name": "stderr",
     "output_type": "stream",
     "text": [
      "INFO:ABC:t: 4, eps: 0.30385277282624407.\n"
     ]
    },
    {
     "name": "stdout",
     "output_type": "stream",
     "text": [
      "PrepNext Duration:  1.957664966583252\n",
      "Time passed until sampling starts for generation 4 :  6.581151723861694\n",
      "Start Duration:  0.005033254623413086\n",
      "Preliminary accepted: 88\n",
      "Acceptance Duration:  435.6083686351776\n",
      "Maybe Next Gen Duration:  2.2518117427825928\n",
      "Wait time:  0.00055694580078125\n",
      "Preliminary discarded:  0\n",
      "Collection Duration:  0.000621795654296875\n",
      "Rest Duration:  0.05723977088928223\n",
      "Duration of sampling for generation 4 :  437.9276611804962\n"
     ]
    },
    {
     "name": "stderr",
     "output_type": "stream",
     "text": [
      "INFO:ABC:Acceptance rate: 5000 / 23347 = 2.1416e-01, ESS=4.8306e+03.\n"
     ]
    },
    {
     "name": "stdout",
     "output_type": "stream",
     "text": [
      "History Duration:  4.814305305480957\n"
     ]
    },
    {
     "name": "stderr",
     "output_type": "stream",
     "text": [
      "INFO:ABC:t: 5, eps: 0.18763867458368647.\n"
     ]
    },
    {
     "name": "stdout",
     "output_type": "stream",
     "text": [
      "PrepNext Duration:  2.1052165031433105\n",
      "Time passed until sampling starts for generation 5 :  6.963600158691406\n",
      "Start Duration:  0.0051496028900146484\n",
      "Preliminary accepted: 78\n",
      "Acceptance Duration:  401.3137538433075\n"
     ]
    },
    {
     "name": "stderr",
     "output_type": "stream",
     "text": [
      "INFO:pyabc.util:Stopping: minimum epsilon.\n"
     ]
    },
    {
     "name": "stdout",
     "output_type": "stream",
     "text": [
      "Maybe Next Gen Duration:  0.2917146682739258\n",
      "Wait time:  0.00038886070251464844\n",
      "Preliminary discarded:  0\n",
      "Collection Duration:  0.0015096664428710938\n",
      "Rest Duration:  0.05515456199645996\n",
      "Duration of sampling for generation 5 :  401.67217087745667\n"
     ]
    },
    {
     "name": "stderr",
     "output_type": "stream",
     "text": [
      "INFO:ABC:Acceptance rate: 5000 / 21949 = 2.2780e-01, ESS=4.9712e+03.\n"
     ]
    },
    {
     "name": "stdout",
     "output_type": "stream",
     "text": [
      "History Duration:  4.452816963195801\n"
     ]
    },
    {
     "name": "stderr",
     "output_type": "stream",
     "text": [
      "INFO:pyabc.util:Stopping: minimum epsilon.\n",
      "INFO:History:Done <ABCSMC(id=289, start_time=2020-11-06 19:26:21.776441, end_time=2020-11-06 20:01:07.908314)>\n"
     ]
    },
    {
     "name": "stdout",
     "output_type": "stream",
     "text": [
      "PrepNext Duration:  1.9671573638916016\n"
     ]
    }
   ],
   "source": [
    "means1 = np.zeros(iters_true)\n",
    "means2 = np.zeros(iters_true)\n",
    "runtimes = np.zeros(iters_true)\n",
    "totalstarttime =time.time()\n",
    "for i in range(0,iters_true):\n",
    "    redis_sampler = sampler.RedisEvalParallelSampler(host=\"localhost\", port=6379, look_ahead = True)\n",
    "    abc = ABCSMC(models=model,\n",
    "             parameter_priors=parameter_prior,\n",
    "             distance_function=distance,\n",
    "             population_size=pop_size,\n",
    "             sampler=redis_sampler,\n",
    "             transitions=LocalTransition(k_fraction=.3),\n",
    "             eps=eps)\n",
    "    \n",
    "    abc.new(db_path, {\"X_2\": measurement_data});\n",
    "    start = time.time()\n",
    "    h = abc.run(minimum_epsilon=min_eps, max_nr_populations=len(eps_list))\n",
    "    end = time.time()\n",
    "    kekse = h.get_distribution(m=0,t=h.max_t)\n",
    "    npkekse1 = kekse[0][['theta1']].to_numpy()\n",
    "    npkekse2 = kekse[0][['theta2']].to_numpy()\n",
    "    means1[i] = npkekse1.mean()\n",
    "    means2[i] = npkekse2.mean()\n",
    "    runtimes[i] = end-start\n",
    "\n",
    "totalendtime = time.time()\n",
    "walltime = totalendtime-totalstarttime"
   ]
  },
  {
   "cell_type": "code",
   "execution_count": 12,
   "metadata": {},
   "outputs": [
    {
     "name": "stdout",
     "output_type": "stream",
     "text": [
      "Results with look-ahead=True\n",
      "average runtime is:  2086.0766835212708 variance of runtimes is:  0.0\n",
      "total wall time for 1  repetitions:  2086.313413143158\n"
     ]
    }
   ],
   "source": [
    "print(\"Results with look-ahead=True\")\n",
    "print(\"average runtime is: \",runtimes.mean(), \"variance of runtimes is: \", runtimes.var())\n",
    "print(\"total wall time for\", iters_true ,\" repetitions: \", walltime)"
   ]
  },
  {
   "cell_type": "code",
   "execution_count": 13,
   "metadata": {},
   "outputs": [],
   "source": [
    "means1 = np.zeros(iters_false)\n",
    "means2 = np.zeros(iters_false)\n",
    "runtimes_original = np.zeros(iters_false)\n",
    "totalstarttime =time.time()\n",
    "for i in range(0,iters_false):\n",
    "    \n",
    "    redis_sampler = sampler.RedisEvalParallelSampler(host=\"localhost\", port=6379, look_ahead = False)\n",
    "    \n",
    "    abc = ABCSMC(models=model,\n",
    "             parameter_priors=parameter_prior,\n",
    "             distance_function=distance,\n",
    "             population_size=pop_size,\n",
    "             sampler=redis_sampler,\n",
    "             transitions=LocalTransition(k_fraction=.3),\n",
    "             eps=eps)\n",
    "    \n",
    "    abc.new(db_path, {\"X_2\": measurement_data});\n",
    "    start = time.time()\n",
    "    h = abc.run(minimum_epsilon=min_eps, max_nr_populations=len(eps_list))\n",
    "    end = time.time()\n",
    "    kekse = h.get_distribution(m=0,t=h.max_t)\n",
    "    npkekse1 = kekse[0][['theta1']].to_numpy()\n",
    "    npkekse2 = kekse[0][['theta2']].to_numpy()\n",
    "    means1[i] = npkekse1.mean()\n",
    "    means2[i] = npkekse2.mean()\n",
    "    runtimes_original[i] = end-start\n",
    "\n",
    "totalendtime = time.time()\n",
    "walltime_original = totalendtime-totalstarttime"
   ]
  },
  {
   "cell_type": "code",
   "execution_count": 14,
   "metadata": {
    "scrolled": true
   },
   "outputs": [
    {
     "name": "stdout",
     "output_type": "stream",
     "text": [
      "Results with look-ahead=False\n",
      "average runtime is:  nan variance of runtimes is:  nan\n",
      "total wall time for 0  repetitions:  0.0001666545867919922\n"
     ]
    },
    {
     "name": "stderr",
     "output_type": "stream",
     "text": [
      "<ipython-input-14-8c94e9089e97>:2: RuntimeWarning: Mean of empty slice.\n",
      "  print(\"average runtime is: \",runtimes_original.mean(), \"variance of runtimes is: \", runtimes_original.var())\n",
      "/home/felipe/anaconda3/lib/python3.8/site-packages/numpy/core/_methods.py:161: RuntimeWarning: invalid value encountered in double_scalars\n",
      "  ret = ret.dtype.type(ret / rcount)\n",
      "<ipython-input-14-8c94e9089e97>:2: RuntimeWarning: Degrees of freedom <= 0 for slice\n",
      "  print(\"average runtime is: \",runtimes_original.mean(), \"variance of runtimes is: \", runtimes_original.var())\n",
      "/home/felipe/anaconda3/lib/python3.8/site-packages/numpy/core/_methods.py:185: RuntimeWarning: invalid value encountered in true_divide\n",
      "  arrmean = um.true_divide(\n",
      "/home/felipe/anaconda3/lib/python3.8/site-packages/numpy/core/_methods.py:209: RuntimeWarning: invalid value encountered in double_scalars\n",
      "  ret = ret.dtype.type(ret / rcount)\n"
     ]
    }
   ],
   "source": [
    "print(\"Results with look-ahead=False\")\n",
    "print(\"average runtime is: \",runtimes_original.mean(), \"variance of runtimes is: \", runtimes_original.var())\n",
    "print(\"total wall time for\", iters_false ,\" repetitions: \", walltime_original)"
   ]
  },
  {
   "cell_type": "code",
   "execution_count": 15,
   "metadata": {},
   "outputs": [],
   "source": [
    "means1 = np.zeros(iters_multicore)\n",
    "means2 = np.zeros(iters_multicore)\n",
    "runtimes_multicore= np.zeros(iters_multicore)\n",
    "totalstarttime =time.time()\n",
    "for i in range(0,iters_multicore):\n",
    "    abc = ABCSMC(models=model,\n",
    "             parameter_priors=parameter_prior,\n",
    "             distance_function=distance,\n",
    "             population_size=50,\n",
    "             transitions=LocalTransition(k_fraction=.3),\n",
    "             eps=eps)\n",
    "    abc.new(db_path, {\"X_2\": measurement_data});\n",
    "    start = time.time()\n",
    "    h = abc.run(minimum_epsilon=min_eps, max_nr_populations=5)\n",
    "    end = time.time()\n",
    "    kekse = h.get_distribution(m=0,t=h.max_t)\n",
    "    npkekse1 = kekse[0][['theta1']].to_numpy()\n",
    "    npkekse2 = kekse[0][['theta2']].to_numpy()\n",
    "    means1[i] = npkekse1.mean()\n",
    "    means2[i] = npkekse2.mean()\n",
    "    runtimes_multicore[i] = end-start\n",
    "\n",
    "totalendtime = time.time()\n",
    "walltime_multicore = totalendtime-totalstarttime"
   ]
  },
  {
   "cell_type": "code",
   "execution_count": 16,
   "metadata": {},
   "outputs": [
    {
     "name": "stdout",
     "output_type": "stream",
     "text": [
      "Results for Multicore-Sampler\n",
      "average runtime is:  nan variance of runtimes is:  nan\n",
      "total wall time for 0  repititions:  0.00015401840209960938\n"
     ]
    },
    {
     "name": "stderr",
     "output_type": "stream",
     "text": [
      "<ipython-input-16-36980f3ce7cc>:2: RuntimeWarning: Mean of empty slice.\n",
      "  print(\"average runtime is: \",runtimes_multicore.mean(), \"variance of runtimes is: \", runtimes_multicore.var())\n",
      "<ipython-input-16-36980f3ce7cc>:2: RuntimeWarning: Degrees of freedom <= 0 for slice\n",
      "  print(\"average runtime is: \",runtimes_multicore.mean(), \"variance of runtimes is: \", runtimes_multicore.var())\n"
     ]
    }
   ],
   "source": [
    "print(\"Results for Multicore-Sampler\")\n",
    "print(\"average runtime is: \",runtimes_multicore.mean(), \"variance of runtimes is: \", runtimes_multicore.var())\n",
    "print(\"total wall time for\", iters_multicore ,\" repititions: \", walltime_multicore)"
   ]
  },
  {
   "cell_type": "code",
   "execution_count": 17,
   "metadata": {},
   "outputs": [
    {
     "data": {
      "text/plain": [
       "'\\niters = 10\\nmeans1 = np.zeros(iters)\\nmeans2 = np.zeros(iters)\\nruntimes_one = np.zeros(iters)\\ntotalstarttime =time.time()\\nfor i in range(0,iters):\\n    eps_list=[4, 2, 1, 0.5, 0.25]\\n    eps = ListEpsilon(eps_list)\\n    redis_sampler = sampler.RedisEvalParallelSampler(host=\"localhost\", port=6379, look_ahead = True)\\n    abc = ABCSMC(models=model,\\n             parameter_priors=parameter_prior,\\n             distance_function=distance,\\n             population_size=50,\\n             sampler=redis_sampler,\\n             transitions=LocalTransition(k_fraction=.3),\\n             eps=eps)\\n    \\n    abc.new(db_path, {\"X_2\": measurement_data});\\n    start = time.time()\\n    h = abc.run(minimum_epsilon=0.1, max_nr_populations=len(eps_list))\\n    end = time.time()\\n    kekse = h.get_distribution(m=0,t=h.max_t)\\n    npkekse1 = kekse[0][[\\'theta1\\']].to_numpy()\\n    npkekse2 = kekse[0][[\\'theta2\\']].to_numpy()\\n    means1[i] = npkekse1.mean()\\n    means2[i] = npkekse2.mean()\\n    runtimes_one[i] = end-start\\n\\ntotalendtime = time.time()\\nwalltime_one = totalendtime-totalstarttime\\n'"
      ]
     },
     "execution_count": 17,
     "metadata": {},
     "output_type": "execute_result"
    }
   ],
   "source": [
    "\"\"\"\n",
    "iters = 10\n",
    "means1 = np.zeros(iters)\n",
    "means2 = np.zeros(iters)\n",
    "runtimes_one = np.zeros(iters)\n",
    "totalstarttime =time.time()\n",
    "for i in range(0,iters):\n",
    "    eps_list=[4, 2, 1, 0.5, 0.25]\n",
    "    eps = ListEpsilon(eps_list)\n",
    "    redis_sampler = sampler.RedisEvalParallelSampler(host=\"localhost\", port=6379, look_ahead = True)\n",
    "    abc = ABCSMC(models=model,\n",
    "             parameter_priors=parameter_prior,\n",
    "             distance_function=distance,\n",
    "             population_size=50,\n",
    "             sampler=redis_sampler,\n",
    "             transitions=LocalTransition(k_fraction=.3),\n",
    "             eps=eps)\n",
    "    \n",
    "    abc.new(db_path, {\"X_2\": measurement_data});\n",
    "    start = time.time()\n",
    "    h = abc.run(minimum_epsilon=0.1, max_nr_populations=len(eps_list))\n",
    "    end = time.time()\n",
    "    kekse = h.get_distribution(m=0,t=h.max_t)\n",
    "    npkekse1 = kekse[0][['theta1']].to_numpy()\n",
    "    npkekse2 = kekse[0][['theta2']].to_numpy()\n",
    "    means1[i] = npkekse1.mean()\n",
    "    means2[i] = npkekse2.mean()\n",
    "    runtimes_one[i] = end-start\n",
    "\n",
    "totalendtime = time.time()\n",
    "walltime_one = totalendtime-totalstarttime\n",
    "\"\"\""
   ]
  },
  {
   "cell_type": "code",
   "execution_count": 18,
   "metadata": {},
   "outputs": [
    {
     "data": {
      "text/plain": [
       "'\\nprint(\"Results with only one worker:\")\\nprint(\"average runtime is: \",runtimes_one.mean(), \"variance of runtimes is: \", runtimes_one.var())\\nprint(\"total wall time for\", iters ,\" repetitions: \", walltime_one)\\n'"
      ]
     },
     "execution_count": 18,
     "metadata": {},
     "output_type": "execute_result"
    }
   ],
   "source": [
    "\"\"\"\n",
    "print(\"Results with only one worker:\")\n",
    "print(\"average runtime is: \",runtimes_one.mean(), \"variance of runtimes is: \", runtimes_one.var())\n",
    "print(\"total wall time for\", iters ,\" repetitions: \", walltime_one)\n",
    "\"\"\""
   ]
  }
 ],
 "metadata": {
  "celltoolbar": "Raw Cell Format",
  "kernelspec": {
   "display_name": "Python 3",
   "language": "python",
   "name": "python3"
  },
  "language_info": {
   "codemirror_mode": {
    "name": "ipython",
    "version": 3
   },
   "file_extension": ".py",
   "mimetype": "text/x-python",
   "name": "python",
   "nbconvert_exporter": "python",
   "pygments_lexer": "ipython3",
   "version": "3.8.2"
  }
 },
 "nbformat": 4,
 "nbformat_minor": 4
}
